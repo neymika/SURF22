{
 "cells": [
  {
   "cell_type": "code",
   "execution_count": 65,
   "id": "b7c0303f",
   "metadata": {},
   "outputs": [
    {
     "data": {
      "text/html": [
       "\n",
       "    <div class=\"bk-root\">\n",
       "        <a href=\"https://bokeh.org\" target=\"_blank\" class=\"bk-logo bk-logo-small bk-logo-notebook\"></a>\n",
       "        <span id=\"6530\">Loading BokehJS ...</span>\n",
       "    </div>"
      ]
     },
     "metadata": {},
     "output_type": "display_data"
    },
    {
     "data": {
      "application/javascript": [
       "\n",
       "(function(root) {\n",
       "  function now() {\n",
       "    return new Date();\n",
       "  }\n",
       "\n",
       "  const force = true;\n",
       "\n",
       "  if (typeof root._bokeh_onload_callbacks === \"undefined\" || force === true) {\n",
       "    root._bokeh_onload_callbacks = [];\n",
       "    root._bokeh_is_loading = undefined;\n",
       "  }\n",
       "\n",
       "  const JS_MIME_TYPE = 'application/javascript';\n",
       "  const HTML_MIME_TYPE = 'text/html';\n",
       "  const EXEC_MIME_TYPE = 'application/vnd.bokehjs_exec.v0+json';\n",
       "  const CLASS_NAME = 'output_bokeh rendered_html';\n",
       "\n",
       "  /**\n",
       "   * Render data to the DOM node\n",
       "   */\n",
       "  function render(props, node) {\n",
       "    const script = document.createElement(\"script\");\n",
       "    node.appendChild(script);\n",
       "  }\n",
       "\n",
       "  /**\n",
       "   * Handle when an output is cleared or removed\n",
       "   */\n",
       "  function handleClearOutput(event, handle) {\n",
       "    const cell = handle.cell;\n",
       "\n",
       "    const id = cell.output_area._bokeh_element_id;\n",
       "    const server_id = cell.output_area._bokeh_server_id;\n",
       "    // Clean up Bokeh references\n",
       "    if (id != null && id in Bokeh.index) {\n",
       "      Bokeh.index[id].model.document.clear();\n",
       "      delete Bokeh.index[id];\n",
       "    }\n",
       "\n",
       "    if (server_id !== undefined) {\n",
       "      // Clean up Bokeh references\n",
       "      const cmd_clean = \"from bokeh.io.state import curstate; print(curstate().uuid_to_server['\" + server_id + \"'].get_sessions()[0].document.roots[0]._id)\";\n",
       "      cell.notebook.kernel.execute(cmd_clean, {\n",
       "        iopub: {\n",
       "          output: function(msg) {\n",
       "            const id = msg.content.text.trim();\n",
       "            if (id in Bokeh.index) {\n",
       "              Bokeh.index[id].model.document.clear();\n",
       "              delete Bokeh.index[id];\n",
       "            }\n",
       "          }\n",
       "        }\n",
       "      });\n",
       "      // Destroy server and session\n",
       "      const cmd_destroy = \"import bokeh.io.notebook as ion; ion.destroy_server('\" + server_id + \"')\";\n",
       "      cell.notebook.kernel.execute(cmd_destroy);\n",
       "    }\n",
       "  }\n",
       "\n",
       "  /**\n",
       "   * Handle when a new output is added\n",
       "   */\n",
       "  function handleAddOutput(event, handle) {\n",
       "    const output_area = handle.output_area;\n",
       "    const output = handle.output;\n",
       "\n",
       "    // limit handleAddOutput to display_data with EXEC_MIME_TYPE content only\n",
       "    if ((output.output_type != \"display_data\") || (!Object.prototype.hasOwnProperty.call(output.data, EXEC_MIME_TYPE))) {\n",
       "      return\n",
       "    }\n",
       "\n",
       "    const toinsert = output_area.element.find(\".\" + CLASS_NAME.split(' ')[0]);\n",
       "\n",
       "    if (output.metadata[EXEC_MIME_TYPE][\"id\"] !== undefined) {\n",
       "      toinsert[toinsert.length - 1].firstChild.textContent = output.data[JS_MIME_TYPE];\n",
       "      // store reference to embed id on output_area\n",
       "      output_area._bokeh_element_id = output.metadata[EXEC_MIME_TYPE][\"id\"];\n",
       "    }\n",
       "    if (output.metadata[EXEC_MIME_TYPE][\"server_id\"] !== undefined) {\n",
       "      const bk_div = document.createElement(\"div\");\n",
       "      bk_div.innerHTML = output.data[HTML_MIME_TYPE];\n",
       "      const script_attrs = bk_div.children[0].attributes;\n",
       "      for (let i = 0; i < script_attrs.length; i++) {\n",
       "        toinsert[toinsert.length - 1].firstChild.setAttribute(script_attrs[i].name, script_attrs[i].value);\n",
       "        toinsert[toinsert.length - 1].firstChild.textContent = bk_div.children[0].textContent\n",
       "      }\n",
       "      // store reference to server id on output_area\n",
       "      output_area._bokeh_server_id = output.metadata[EXEC_MIME_TYPE][\"server_id\"];\n",
       "    }\n",
       "  }\n",
       "\n",
       "  function register_renderer(events, OutputArea) {\n",
       "\n",
       "    function append_mime(data, metadata, element) {\n",
       "      // create a DOM node to render to\n",
       "      const toinsert = this.create_output_subarea(\n",
       "        metadata,\n",
       "        CLASS_NAME,\n",
       "        EXEC_MIME_TYPE\n",
       "      );\n",
       "      this.keyboard_manager.register_events(toinsert);\n",
       "      // Render to node\n",
       "      const props = {data: data, metadata: metadata[EXEC_MIME_TYPE]};\n",
       "      render(props, toinsert[toinsert.length - 1]);\n",
       "      element.append(toinsert);\n",
       "      return toinsert\n",
       "    }\n",
       "\n",
       "    /* Handle when an output is cleared or removed */\n",
       "    events.on('clear_output.CodeCell', handleClearOutput);\n",
       "    events.on('delete.Cell', handleClearOutput);\n",
       "\n",
       "    /* Handle when a new output is added */\n",
       "    events.on('output_added.OutputArea', handleAddOutput);\n",
       "\n",
       "    /**\n",
       "     * Register the mime type and append_mime function with output_area\n",
       "     */\n",
       "    OutputArea.prototype.register_mime_type(EXEC_MIME_TYPE, append_mime, {\n",
       "      /* Is output safe? */\n",
       "      safe: true,\n",
       "      /* Index of renderer in `output_area.display_order` */\n",
       "      index: 0\n",
       "    });\n",
       "  }\n",
       "\n",
       "  // register the mime type if in Jupyter Notebook environment and previously unregistered\n",
       "  if (root.Jupyter !== undefined) {\n",
       "    const events = require('base/js/events');\n",
       "    const OutputArea = require('notebook/js/outputarea').OutputArea;\n",
       "\n",
       "    if (OutputArea.prototype.mime_types().indexOf(EXEC_MIME_TYPE) == -1) {\n",
       "      register_renderer(events, OutputArea);\n",
       "    }\n",
       "  }\n",
       "\n",
       "  \n",
       "  if (typeof (root._bokeh_timeout) === \"undefined\" || force === true) {\n",
       "    root._bokeh_timeout = Date.now() + 5000;\n",
       "    root._bokeh_failed_load = false;\n",
       "  }\n",
       "\n",
       "  const NB_LOAD_WARNING = {'data': {'text/html':\n",
       "     \"<div style='background-color: #fdd'>\\n\"+\n",
       "     \"<p>\\n\"+\n",
       "     \"BokehJS does not appear to have successfully loaded. If loading BokehJS from CDN, this \\n\"+\n",
       "     \"may be due to a slow or bad network connection. Possible fixes:\\n\"+\n",
       "     \"</p>\\n\"+\n",
       "     \"<ul>\\n\"+\n",
       "     \"<li>re-rerun `output_notebook()` to attempt to load from CDN again, or</li>\\n\"+\n",
       "     \"<li>use INLINE resources instead, as so:</li>\\n\"+\n",
       "     \"</ul>\\n\"+\n",
       "     \"<code>\\n\"+\n",
       "     \"from bokeh.resources import INLINE\\n\"+\n",
       "     \"output_notebook(resources=INLINE)\\n\"+\n",
       "     \"</code>\\n\"+\n",
       "     \"</div>\"}};\n",
       "\n",
       "  function display_loaded() {\n",
       "    const el = document.getElementById(\"6530\");\n",
       "    if (el != null) {\n",
       "      el.textContent = \"BokehJS is loading...\";\n",
       "    }\n",
       "    if (root.Bokeh !== undefined) {\n",
       "      if (el != null) {\n",
       "        el.textContent = \"BokehJS \" + root.Bokeh.version + \" successfully loaded.\";\n",
       "      }\n",
       "    } else if (Date.now() < root._bokeh_timeout) {\n",
       "      setTimeout(display_loaded, 100)\n",
       "    }\n",
       "  }\n",
       "\n",
       "\n",
       "  function run_callbacks() {\n",
       "    try {\n",
       "      root._bokeh_onload_callbacks.forEach(function(callback) {\n",
       "        if (callback != null)\n",
       "          callback();\n",
       "      });\n",
       "    } finally {\n",
       "      delete root._bokeh_onload_callbacks\n",
       "    }\n",
       "    console.debug(\"Bokeh: all callbacks have finished\");\n",
       "  }\n",
       "\n",
       "  function load_libs(css_urls, js_urls, callback) {\n",
       "    if (css_urls == null) css_urls = [];\n",
       "    if (js_urls == null) js_urls = [];\n",
       "\n",
       "    root._bokeh_onload_callbacks.push(callback);\n",
       "    if (root._bokeh_is_loading > 0) {\n",
       "      console.debug(\"Bokeh: BokehJS is being loaded, scheduling callback at\", now());\n",
       "      return null;\n",
       "    }\n",
       "    if (js_urls == null || js_urls.length === 0) {\n",
       "      run_callbacks();\n",
       "      return null;\n",
       "    }\n",
       "    console.debug(\"Bokeh: BokehJS not loaded, scheduling load and callback at\", now());\n",
       "    root._bokeh_is_loading = css_urls.length + js_urls.length;\n",
       "\n",
       "    function on_load() {\n",
       "      root._bokeh_is_loading--;\n",
       "      if (root._bokeh_is_loading === 0) {\n",
       "        console.debug(\"Bokeh: all BokehJS libraries/stylesheets loaded\");\n",
       "        run_callbacks()\n",
       "      }\n",
       "    }\n",
       "\n",
       "    function on_error(url) {\n",
       "      console.error(\"failed to load \" + url);\n",
       "    }\n",
       "\n",
       "    for (let i = 0; i < css_urls.length; i++) {\n",
       "      const url = css_urls[i];\n",
       "      const element = document.createElement(\"link\");\n",
       "      element.onload = on_load;\n",
       "      element.onerror = on_error.bind(null, url);\n",
       "      element.rel = \"stylesheet\";\n",
       "      element.type = \"text/css\";\n",
       "      element.href = url;\n",
       "      console.debug(\"Bokeh: injecting link tag for BokehJS stylesheet: \", url);\n",
       "      document.body.appendChild(element);\n",
       "    }\n",
       "\n",
       "    for (let i = 0; i < js_urls.length; i++) {\n",
       "      const url = js_urls[i];\n",
       "      const element = document.createElement('script');\n",
       "      element.onload = on_load;\n",
       "      element.onerror = on_error.bind(null, url);\n",
       "      element.async = false;\n",
       "      element.src = url;\n",
       "      console.debug(\"Bokeh: injecting script tag for BokehJS library: \", url);\n",
       "      document.head.appendChild(element);\n",
       "    }\n",
       "  };\n",
       "\n",
       "  function inject_raw_css(css) {\n",
       "    const element = document.createElement(\"style\");\n",
       "    element.appendChild(document.createTextNode(css));\n",
       "    document.body.appendChild(element);\n",
       "  }\n",
       "\n",
       "  \n",
       "  const js_urls = [\"https://cdn.bokeh.org/bokeh/release/bokeh-2.4.2.min.js\", \"https://cdn.bokeh.org/bokeh/release/bokeh-gl-2.4.2.min.js\", \"https://cdn.bokeh.org/bokeh/release/bokeh-widgets-2.4.2.min.js\", \"https://cdn.bokeh.org/bokeh/release/bokeh-tables-2.4.2.min.js\", \"https://cdn.bokeh.org/bokeh/release/bokeh-mathjax-2.4.2.min.js\"];\n",
       "  const css_urls = [];\n",
       "  \n",
       "\n",
       "  const inline_js = [\n",
       "    function(Bokeh) {\n",
       "      Bokeh.set_log_level(\"info\");\n",
       "    },\n",
       "    function(Bokeh) {\n",
       "    \n",
       "    \n",
       "    }\n",
       "  ];\n",
       "\n",
       "  function run_inline_js() {\n",
       "    \n",
       "    if (root.Bokeh !== undefined || force === true) {\n",
       "      \n",
       "    for (let i = 0; i < inline_js.length; i++) {\n",
       "      inline_js[i].call(root, root.Bokeh);\n",
       "    }\n",
       "    if (force === true) {\n",
       "        display_loaded();\n",
       "      }} else if (Date.now() < root._bokeh_timeout) {\n",
       "      setTimeout(run_inline_js, 100);\n",
       "    } else if (!root._bokeh_failed_load) {\n",
       "      console.log(\"Bokeh: BokehJS failed to load within specified timeout.\");\n",
       "      root._bokeh_failed_load = true;\n",
       "    } else if (force !== true) {\n",
       "      const cell = $(document.getElementById(\"6530\")).parents('.cell').data().cell;\n",
       "      cell.output_area.append_execute_result(NB_LOAD_WARNING)\n",
       "    }\n",
       "\n",
       "  }\n",
       "\n",
       "  if (root._bokeh_is_loading === 0) {\n",
       "    console.debug(\"Bokeh: BokehJS loaded, going straight to plotting\");\n",
       "    run_inline_js();\n",
       "  } else {\n",
       "    load_libs(css_urls, js_urls, function() {\n",
       "      console.debug(\"Bokeh: BokehJS plotting callback run at\", now());\n",
       "      run_inline_js();\n",
       "    });\n",
       "  }\n",
       "}(window));"
      ],
      "application/vnd.bokehjs_load.v0+json": "\n(function(root) {\n  function now() {\n    return new Date();\n  }\n\n  const force = true;\n\n  if (typeof root._bokeh_onload_callbacks === \"undefined\" || force === true) {\n    root._bokeh_onload_callbacks = [];\n    root._bokeh_is_loading = undefined;\n  }\n\n  \n\n  \n  if (typeof (root._bokeh_timeout) === \"undefined\" || force === true) {\n    root._bokeh_timeout = Date.now() + 5000;\n    root._bokeh_failed_load = false;\n  }\n\n  const NB_LOAD_WARNING = {'data': {'text/html':\n     \"<div style='background-color: #fdd'>\\n\"+\n     \"<p>\\n\"+\n     \"BokehJS does not appear to have successfully loaded. If loading BokehJS from CDN, this \\n\"+\n     \"may be due to a slow or bad network connection. Possible fixes:\\n\"+\n     \"</p>\\n\"+\n     \"<ul>\\n\"+\n     \"<li>re-rerun `output_notebook()` to attempt to load from CDN again, or</li>\\n\"+\n     \"<li>use INLINE resources instead, as so:</li>\\n\"+\n     \"</ul>\\n\"+\n     \"<code>\\n\"+\n     \"from bokeh.resources import INLINE\\n\"+\n     \"output_notebook(resources=INLINE)\\n\"+\n     \"</code>\\n\"+\n     \"</div>\"}};\n\n  function display_loaded() {\n    const el = document.getElementById(\"6530\");\n    if (el != null) {\n      el.textContent = \"BokehJS is loading...\";\n    }\n    if (root.Bokeh !== undefined) {\n      if (el != null) {\n        el.textContent = \"BokehJS \" + root.Bokeh.version + \" successfully loaded.\";\n      }\n    } else if (Date.now() < root._bokeh_timeout) {\n      setTimeout(display_loaded, 100)\n    }\n  }\n\n\n  function run_callbacks() {\n    try {\n      root._bokeh_onload_callbacks.forEach(function(callback) {\n        if (callback != null)\n          callback();\n      });\n    } finally {\n      delete root._bokeh_onload_callbacks\n    }\n    console.debug(\"Bokeh: all callbacks have finished\");\n  }\n\n  function load_libs(css_urls, js_urls, callback) {\n    if (css_urls == null) css_urls = [];\n    if (js_urls == null) js_urls = [];\n\n    root._bokeh_onload_callbacks.push(callback);\n    if (root._bokeh_is_loading > 0) {\n      console.debug(\"Bokeh: BokehJS is being loaded, scheduling callback at\", now());\n      return null;\n    }\n    if (js_urls == null || js_urls.length === 0) {\n      run_callbacks();\n      return null;\n    }\n    console.debug(\"Bokeh: BokehJS not loaded, scheduling load and callback at\", now());\n    root._bokeh_is_loading = css_urls.length + js_urls.length;\n\n    function on_load() {\n      root._bokeh_is_loading--;\n      if (root._bokeh_is_loading === 0) {\n        console.debug(\"Bokeh: all BokehJS libraries/stylesheets loaded\");\n        run_callbacks()\n      }\n    }\n\n    function on_error(url) {\n      console.error(\"failed to load \" + url);\n    }\n\n    for (let i = 0; i < css_urls.length; i++) {\n      const url = css_urls[i];\n      const element = document.createElement(\"link\");\n      element.onload = on_load;\n      element.onerror = on_error.bind(null, url);\n      element.rel = \"stylesheet\";\n      element.type = \"text/css\";\n      element.href = url;\n      console.debug(\"Bokeh: injecting link tag for BokehJS stylesheet: \", url);\n      document.body.appendChild(element);\n    }\n\n    for (let i = 0; i < js_urls.length; i++) {\n      const url = js_urls[i];\n      const element = document.createElement('script');\n      element.onload = on_load;\n      element.onerror = on_error.bind(null, url);\n      element.async = false;\n      element.src = url;\n      console.debug(\"Bokeh: injecting script tag for BokehJS library: \", url);\n      document.head.appendChild(element);\n    }\n  };\n\n  function inject_raw_css(css) {\n    const element = document.createElement(\"style\");\n    element.appendChild(document.createTextNode(css));\n    document.body.appendChild(element);\n  }\n\n  \n  const js_urls = [\"https://cdn.bokeh.org/bokeh/release/bokeh-2.4.2.min.js\", \"https://cdn.bokeh.org/bokeh/release/bokeh-gl-2.4.2.min.js\", \"https://cdn.bokeh.org/bokeh/release/bokeh-widgets-2.4.2.min.js\", \"https://cdn.bokeh.org/bokeh/release/bokeh-tables-2.4.2.min.js\", \"https://cdn.bokeh.org/bokeh/release/bokeh-mathjax-2.4.2.min.js\"];\n  const css_urls = [];\n  \n\n  const inline_js = [\n    function(Bokeh) {\n      Bokeh.set_log_level(\"info\");\n    },\n    function(Bokeh) {\n    \n    \n    }\n  ];\n\n  function run_inline_js() {\n    \n    if (root.Bokeh !== undefined || force === true) {\n      \n    for (let i = 0; i < inline_js.length; i++) {\n      inline_js[i].call(root, root.Bokeh);\n    }\n    if (force === true) {\n        display_loaded();\n      }} else if (Date.now() < root._bokeh_timeout) {\n      setTimeout(run_inline_js, 100);\n    } else if (!root._bokeh_failed_load) {\n      console.log(\"Bokeh: BokehJS failed to load within specified timeout.\");\n      root._bokeh_failed_load = true;\n    } else if (force !== true) {\n      const cell = $(document.getElementById(\"6530\")).parents('.cell').data().cell;\n      cell.output_area.append_execute_result(NB_LOAD_WARNING)\n    }\n\n  }\n\n  if (root._bokeh_is_loading === 0) {\n    console.debug(\"Bokeh: BokehJS loaded, going straight to plotting\");\n    run_inline_js();\n  } else {\n    load_libs(css_urls, js_urls, function() {\n      console.debug(\"Bokeh: BokehJS plotting callback run at\", now());\n      run_inline_js();\n    });\n  }\n}(window));"
     },
     "metadata": {},
     "output_type": "display_data"
    }
   ],
   "source": [
    "import numpy as np\n",
    "import bokeh.plotting\n",
    "from bokeh.io import output_notebook, export_png\n",
    "import matplotlib.pyplot as plt\n",
    "from scipy import optimize\n",
    "import timeit\n",
    "plt.style.use('seaborn-white')\n",
    "output_notebook()\n",
    "def style(p, autohide=False):\n",
    "    p.title.text_font=\"Helvetica\"\n",
    "    p.title.text_font_size=\"13px\"\n",
    "    p.title.align=\"center\"\n",
    "    p.xaxis.axis_label_text_font=\"Helvetica\"\n",
    "    p.yaxis.axis_label_text_font=\"Helvetica\"\n",
    "    \n",
    "    p.xaxis.axis_label_text_font_size=\"13px\"\n",
    "    p.yaxis.axis_label_text_font_size=\"13px\"\n",
    "    p.xaxis.axis_label_text_font_style = \"normal\"\n",
    "    p.yaxis.axis_label_text_font_style = \"normal\"\n",
    "    p.background_fill_alpha = 0\n",
    "    if autohide: p.toolbar.autohide=True\n",
    "    return p"
   ]
  },
  {
   "cell_type": "markdown",
   "id": "225886d3",
   "metadata": {},
   "source": [
    "## Toy/Common Sense Example"
   ]
  },
  {
   "cell_type": "code",
   "execution_count": 18,
   "id": "84544bfb",
   "metadata": {},
   "outputs": [
    {
     "name": "stderr",
     "output_type": "stream",
     "text": [
      "/var/folders/g5/v23_3kpd15d5q_ctg979nhyw0000gn/T/ipykernel_6947/2398149219.py:7: FutureWarning: `rcond` parameter will change to the default of machine precision times ``max(M, N)`` where M and N are the input matrix dimensions.\n",
      "To use the future default and silence this warning we advise to pass `rcond=None`, to keep using the old, explicitly pass `rcond=-1`.\n",
      "  npbetas = np.linalg.lstsq(np.transpose(dataxis), noisyyi)\n"
     ]
    }
   ],
   "source": [
    "np.random.seed(2022)\n",
    "dataxis = np.random.normal(0.0, 1.0, size=(20, 1000))\n",
    "truebetas = .5*np.ones(shape=(20,))\n",
    "trueyis = np.matmul(truebetas, dataxis)\n",
    "noisyyi = trueyis + np.random.normal(0.0, .01, size=(1000,))\n",
    "estbetas = np.matmul(np.matmul(np.linalg.inv(np.matmul(dataxis, np.transpose(dataxis))), dataxis), noisyyi)\n",
    "npbetas = np.linalg.lstsq(np.transpose(dataxis), noisyyi)\n"
   ]
  },
  {
   "cell_type": "code",
   "execution_count": 21,
   "id": "cd2d8d04",
   "metadata": {},
   "outputs": [
    {
     "data": {
      "text/plain": [
       "array([ 3.33066907e-16, -1.22124533e-15,  1.22124533e-15,  7.77156117e-16,\n",
       "        0.00000000e+00, -3.33066907e-16, -5.55111512e-16,  1.11022302e-16,\n",
       "        8.88178420e-16,  2.22044605e-15, -7.77156117e-16,  9.99200722e-16,\n",
       "       -6.66133815e-16, -9.99200722e-16, -7.77156117e-16,  1.05471187e-15,\n",
       "       -5.55111512e-16, -6.66133815e-16,  6.66133815e-16,  1.11022302e-16])"
      ]
     },
     "execution_count": 21,
     "metadata": {},
     "output_type": "execute_result"
    }
   ],
   "source": [
    "# common sense check\n",
    "estbetas - npbetas[0]"
   ]
  },
  {
   "cell_type": "code",
   "execution_count": 15,
   "id": "5442d248",
   "metadata": {},
   "outputs": [
    {
     "data": {
      "text/plain": [
       "array([0.5, 0.5, 0.5, 0.5, 0.5, 0.5, 0.5, 0.5, 0.5, 0.5, 0.5, 0.5, 0.5,\n",
       "       0.5, 0.5, 0.5, 0.5, 0.5, 0.5, 0.5])"
      ]
     },
     "execution_count": 15,
     "metadata": {},
     "output_type": "execute_result"
    }
   ],
   "source": [
    "truebetas"
   ]
  },
  {
   "cell_type": "code",
   "execution_count": 23,
   "id": "939d80dc",
   "metadata": {},
   "outputs": [
    {
     "data": {
      "text/plain": [
       "(array([0.49993868, 0.49995244, 0.50002119, 0.49995163, 0.50053818,\n",
       "        0.50013666, 0.50016279, 0.4997237 , 0.50026423, 0.50011576,\n",
       "        0.49968709, 0.50023897, 0.5000948 , 0.50025292, 0.50015768,\n",
       "        0.49994561, 0.50010311, 0.50006312, 0.49958429, 0.50019954]),\n",
       " array([0.09804681]),\n",
       " 20,\n",
       " array([35.51263614, 35.28247326, 34.38525506, 33.75336607, 33.60044948,\n",
       "        33.36970139, 32.65366741, 32.24166035, 32.05257335, 31.63423563,\n",
       "        31.39288118, 31.2149553 , 30.90468757, 30.24674957, 29.87095436,\n",
       "        29.47436896, 29.14263201, 28.8678923 , 28.50484304, 27.59114546]))"
      ]
     },
     "execution_count": 23,
     "metadata": {},
     "output_type": "execute_result"
    }
   ],
   "source": [
    "# estimates, residual, rank, singular values\n",
    "npbetas"
   ]
  },
  {
   "cell_type": "markdown",
   "id": "c78b80dc",
   "metadata": {},
   "source": [
    "## Multi-Fidelity Example"
   ]
  },
  {
   "cell_type": "code",
   "execution_count": 37,
   "id": "9d78c81d",
   "metadata": {},
   "outputs": [],
   "source": [
    "def highfid(z, a, b):\n",
    "    return np.sin(z[0]) + a*np.power(np.sin(z[1]), 2) + b*np.power(z[2], 4)*np.sin(z[0])\n",
    "\n",
    "def lowfid(z, a, b):\n",
    "    return np.sin(z[0]) + .6*a*np.power(np.sin(z[1]), 2) + 9*b*np.power(z[2], 2)*np.sin(z[0])\n",
    "\n",
    "def varest(fz, e):\n",
    "    return np.sum((fz - e)**2)/(fz.shape[0] - 1)"
   ]
  },
  {
   "cell_type": "code",
   "execution_count": 39,
   "id": "45345415",
   "metadata": {},
   "outputs": [],
   "source": [
    "a = 5\n",
    "b = .1\n",
    "lowsample = 9070\n",
    "highsample = 8\n",
    "budget = 200\n",
    "exphs = np.zeros(shape=(budget,))\n",
    "expls = np.zeros(shape=(budget,))\n",
    "expmfs = np.zeros(shape=(budget,))\n",
    "alpha = .9455\n",
    "\n",
    "for i in range(budget):\n",
    "    z = np.random.uniform(-np.pi, np.pi, size=(3,lowsample))\n",
    "    exphs[i] = np.mean(highfid(z[:, :highsample], a, b))\n",
    "    expls[i] = np.mean(lowfid(z, a, b))\n",
    "    expmfs[i] = exphs[i] + alpha*(expls[i] - np.mean(lowfid(z[:, :highsample], a, b)))"
   ]
  },
  {
   "cell_type": "code",
   "execution_count": 64,
   "id": "cf3ae9e1",
   "metadata": {},
   "outputs": [
    {
     "data": {
      "text/html": [
       "\n",
       "\n",
       "\n",
       "\n",
       "\n",
       "\n",
       "  <div class=\"bk-root\" id=\"822fa8a8-da0f-4ce4-9fa9-1fe999849dab\" data-root-id=\"6033\"></div>\n"
      ]
     },
     "metadata": {},
     "output_type": "display_data"
    },
    {
     "data": {
      "application/javascript": [
       "(function(root) {\n",
       "  function embed_document(root) {\n",
       "    \n",
       "  const docs_json = {\"d0a4c28f-7716-42d1-981c-e5a67ccb6eaf\":{\"defs\":[],\"roots\":{\"references\":[{\"attributes\":{\"background_fill_alpha\":0,\"below\":[{\"id\":\"6042\"}],\"center\":[{\"id\":\"6045\"},{\"id\":\"6049\"}],\"height\":300,\"left\":[{\"id\":\"6046\"}],\"renderers\":[{\"id\":\"6068\"},{\"id\":\"6074\"},{\"id\":\"6080\"},{\"id\":\"6087\"},{\"id\":\"6093\"},{\"id\":\"6099\"}],\"right\":[{\"id\":\"6101\"}],\"title\":{\"id\":\"6082\"},\"toolbar\":{\"id\":\"6057\"},\"width\":800,\"x_range\":{\"id\":\"6034\"},\"x_scale\":{\"id\":\"6038\"},\"y_range\":{\"id\":\"6036\"},\"y_scale\":{\"id\":\"6040\"}},\"id\":\"6033\",\"subtype\":\"Figure\",\"type\":\"Plot\"},{\"attributes\":{\"bottom\":{\"value\":0},\"fill_alpha\":{\"value\":0.5},\"fill_color\":{\"value\":\"navy\"},\"hatch_alpha\":{\"value\":0.5},\"left\":{\"field\":\"left\"},\"line_alpha\":{\"value\":0.5},\"line_color\":{\"value\":\"white\"},\"right\":{\"field\":\"right\"},\"top\":{\"field\":\"top\"}},\"id\":\"6065\",\"type\":\"Quad\"},{\"attributes\":{\"line_color\":\"seagreen\"},\"id\":\"6090\",\"type\":\"Line\"},{\"attributes\":{\"data\":{\"left\":{\"__ndarray__\":\"TtkHmXUu+D8qUE5M8cv4PwbHlP9safk/4j3bsugG+j++tCFmZKT6P5oraBngQfs/dqKuzFvf+z9SGfV/13z8Py6QOzNTGv0/CgeC5s63/T/mfciZSlX+P8L0Dk3G8v4/nmtVAEKQ/z898c3Z3hYAQKsscbOcZQBAGWgUjVq0AECHo7dmGAMBQPXeWkDWUQFAYxr+GZSgAUDRVaHzUe8BQD+RRM0PPgJArcznps2MAkAbCIuAi9sCQIlDLlpJKgNA9n7RMwd5A0BkunQNxccDQNL1F+eCFgRAQDG7wEBlBECubF6a/rMEQByoAXS8AgVAiuOkTXpRBUD4HkgnOKAFQGZa6wD27gVA1JWO2rM9BkBC0TG0cYwGQLAM1Y0v2wZAHkh4Z+0pB0CMgxtBq3gHQPq+vhppxwdAaPph9CYWCEDWNQXO5GQIQERxqKeiswhAsqxLgWACCUAg6O5aHlEJQI4jkjTcnwlA/F41DpruCUBqmtjnVz0KQNjVe8EVjApARhEfm9PaCkC0TMJ0kSkLQA==\",\"dtype\":\"float64\",\"order\":\"little\",\"shape\":[50]},\"right\":{\"__ndarray__\":\"KlBOTPHL+D8Gx5T/bGn5P+I927LoBvo/vrQhZmSk+j+aK2gZ4EH7P3airsxb3/s/Uhn1f9d8/D8ukDszUxr9PwoHgubOt/0/5n3ImUpV/j/C9A5NxvL+P55rVQBCkP8/PfHN2d4WAECrLHGznGUAQBloFI1atABAh6O3ZhgDAUD13lpA1lEBQGMa/hmUoAFA0VWh81HvAUA/kUTNDz4CQK3M56bNjAJAGwiLgIvbAkCJQy5aSSoDQPZ+0TMHeQNAZLp0DcXHA0DS9RfnghYEQEAxu8BAZQRArmxemv6zBEAcqAF0vAIFQIrjpE16UQVA+B5IJzigBUBmWusA9u4FQNSVjtqzPQZAQtExtHGMBkCwDNWNL9sGQB5IeGftKQdAjIMbQat4B0D6vr4aaccHQGj6YfQmFghA1jUFzuRkCEBEcainorMIQLKsS4FgAglAIOjuWh5RCUCOI5I03J8JQPxeNQ6a7glAaprY51c9CkDY1XvBFYwKQEYRH5vT2gpAtEzCdJEpC0AiiGVOT3gLQA==\",\"dtype\":\"float64\",\"order\":\"little\",\"shape\":[50]},\"top\":{\"__ndarray__\":\"Bq6irVWlwD8AAAAAAAAAAAAAAAAAAAAAAAAAAAAAAAAGrqKtVaXAPwauoq1VpdA/Bq6irVWlwD8GrqKtVaXQP4hZCxmrzuQ/Bq6irVWl0D+MsNzvVSHtPwauoq1VpcA/iFkLGavO5D8GrqKtVaXQPwauoq1VpeA/CgV0hAD42D8KBXSEAPjoP4hZCxmrzuQ/iFkLGavO5D8KBXSEAPjoP4yw3O9VIe0/iFkLGavO9D+IWQsZq87kP1sFdIQA+Og/CgV0hAD46D+IWQsZq87kP8paKDqrDPs/iFkLGavO9D/IA1djALryP8paKDqrDPs/CgV0hAD42D8GrqKtVaXgPwoFdIQA+Og/Sa+/zlXj9j8GrqKtVaXgPwauoq1VpeA/CgV0hAD42D8KBXSEAPjYP4hZCxmrzuQ/Bq6irVWl4D8KBXSEAPjYPwauoq1VpcA/Bq6irVWl0D8KBXSEAPjYPwAAAAAAAAAABq6irVWlwD8AAAAAAAAAAAAAAAAAAAAAAAAAAAAAAAAGrqKtVaXAPw==\",\"dtype\":\"float64\",\"order\":\"little\",\"shape\":[50]}},\"selected\":{\"id\":\"6417\"},\"selection_policy\":{\"id\":\"6416\"}},\"id\":\"6076\",\"type\":\"ColumnDataSource\"},{\"attributes\":{\"line_alpha\":0.1,\"line_color\":\"seagreen\"},\"id\":\"6091\",\"type\":\"Line\"},{\"attributes\":{},\"id\":\"6407\",\"type\":\"BasicTickFormatter\"},{\"attributes\":{\"line_alpha\":0.2,\"line_color\":\"navy\"},\"id\":\"6086\",\"type\":\"Line\"},{\"attributes\":{\"data\":{\"left\":{\"__ndarray__\":\"k/NWn5kA5L+StyuMYivgvyT3APJWrNi/In+qy+gB0b9CDqhK9a7CvwDy2O/H0Jq/iKNjnYb1tz/EwV6bn0/LP+TYBfQ9UtU/5lBcGqz83D9zZFkgjVPiP3OghDPEKOY/ddyvRvv96T91GNtZMtPtPzoqg7Y01PA/PMgYQNC+8j88Zq7Ja6n0PzwERFMHlPY/PKLZ3KJ++D88QG9mPmn6PzzeBPDZU/w/PHyaeXU+/j8eDZiBiBQAQB/cYkbWCQFAH6stCyT/AUAfevjPcfQCQB9Jw5S/6QNAHxiOWQ3fBEAf51geW9QFQCC2I+OoyQZAIIXup/a+B0AgVLlsRLQIQCAjhDGSqQlAIPJO9t+eCkAhwRm7LZQLQCGQ5H97iQxAIV+vRMl+DUAhLnoJF3QOQCH9RM5kaQ9AEeaHSVkvEECRTe0rAKoQQBG1Ug6nJBFAkRy48E2fEUARhB3T9BkSQJHrgrWblBJAElPol0IPE0CSuk166YkTQBIis1yQBBRAkokYPzd/FEAS8X0h3vkUQA==\",\"dtype\":\"float64\",\"order\":\"little\",\"shape\":[50]},\"right\":{\"__ndarray__\":\"krcrjGIr4L8k9wDyVqzYvyJ/qsvoAdG/Qg6oSvWuwr8A8tjvx9Cav4ijY52G9bc/xMFem59Pyz/k2AX0PVLVP+ZQXBqs/Nw/c2RZII1T4j9zoIQzxCjmP3Xcr0b7/ek/dRjbWTLT7T86KoO2NNTwPzzIGEDQvvI/PGauyWup9D88BERTB5T2Pzyi2dyifvg/PEBvZj5p+j883gTw2VP8Pzx8mnl1Pv4/Hg2YgYgUAEAf3GJG1gkBQB+rLQsk/wFAH3r4z3H0AkAfScOUv+kDQB8YjlkN3wRAH+dYHlvUBUAgtiPjqMkGQCCF7qf2vgdAIFS5bES0CEAgI4QxkqkJQCDyTvbfngpAIcEZuy2UC0AhkOR/e4kMQCFfr0TJfg1AIS56CRd0DkAh/UTOZGkPQBHmh0lZLxBAkU3tKwCqEEARtVIOpyQRQJEcuPBNnxFAEYQd0/QZEkCR64K1m5QSQBJT6JdCDxNAkrpNeumJE0ASIrNckAQUQJKJGD83fxRAEvF9Id75FECSWOMDhXQVQA==\",\"dtype\":\"float64\",\"order\":\"little\",\"shape\":[50]},\"top\":{\"__ndarray__\":\"HAighX1fpT8AAAAAAAAAABwIoIV9X7U/AAAAAAAAAAAfCKCFfV+1PxwIoIV9X6U/IQighX1ftT8AAAAAAAAAAAAAAAAAAAAAKgoI51y3yj8ZBjgkngfAPxEGOCSeB8A/GQY4JJ4HwD8xCgjnXLfKPwgGOCSeB8A/IQighX1fxT8qCgjnXLfaPyoKCOdct8o/IQighX1f1T8ZBjgkngfgPyoKCOdct8o/JQlUNm0L2D+JBpL8lV3hPyEIoIV9X9U/pAj6XXW15j8dB+zUjbPSPyEIoIV9X9U/GQY4JJ4HwD8IBjgkngfQPyoKCOdct8o/KgoI51y3yj8hCKCFfV+1Px0H7NSNs9I/DgoI51y3yj8ZBjgkngfQPyEIoIV9X8U/KgoI51y3yj8qCgjnXLfKPwwIoIV9X6U/IQighX1fpT8hCKCFfV+1PyEIoIV9X7U/IQighX1ftT8hCKCFfV+1PwAAAAAAAAAAAAAAAAAAAAAAAAAAAAAAAAAAAAAAAAAAAAAAAAAAAAAhCKCFfV+lPw==\",\"dtype\":\"float64\",\"order\":\"little\",\"shape\":[50]}},\"selected\":{\"id\":\"6413\"},\"selection_policy\":{\"id\":\"6412\"}},\"id\":\"6064\",\"type\":\"ColumnDataSource\"},{\"attributes\":{\"coordinates\":null,\"data_source\":{\"id\":\"6083\"},\"glyph\":{\"id\":\"6084\"},\"group\":null,\"hover_glyph\":null,\"muted_glyph\":{\"id\":\"6086\"},\"nonselection_glyph\":{\"id\":\"6085\"},\"view\":{\"id\":\"6088\"}},\"id\":\"6087\",\"type\":\"GlyphRenderer\"},{\"attributes\":{\"coordinates\":null,\"data_source\":{\"id\":\"6095\"},\"glyph\":{\"id\":\"6096\"},\"group\":null,\"hover_glyph\":null,\"muted_glyph\":{\"id\":\"6098\"},\"nonselection_glyph\":{\"id\":\"6097\"},\"view\":{\"id\":\"6100\"}},\"id\":\"6099\",\"type\":\"GlyphRenderer\"},{\"attributes\":{},\"id\":\"6034\",\"type\":\"DataRange1d\"},{\"attributes\":{\"line_alpha\":0.2,\"line_color\":\"maroon\"},\"id\":\"6098\",\"type\":\"Line\"},{\"attributes\":{},\"id\":\"6412\",\"type\":\"UnionRenderers\"},{\"attributes\":{\"coordinates\":null,\"data_source\":{\"id\":\"6064\"},\"glyph\":{\"id\":\"6065\"},\"group\":null,\"hover_glyph\":null,\"muted_glyph\":{\"id\":\"6067\"},\"nonselection_glyph\":{\"id\":\"6066\"},\"view\":{\"id\":\"6069\"}},\"id\":\"6068\",\"type\":\"GlyphRenderer\"},{\"attributes\":{\"data\":{},\"selected\":{\"id\":\"6421\"},\"selection_policy\":{\"id\":\"6420\"}},\"id\":\"6089\",\"type\":\"ColumnDataSource\"},{\"attributes\":{\"label\":{\"value\":\"Expected Values of High-Fidelity Model\"},\"renderers\":[{\"id\":\"6087\"}]},\"id\":\"6102\",\"type\":\"LegendItem\"},{\"attributes\":{\"axis_label\":\"Expected Values\",\"axis_label_text_font\":\"Helvetica\",\"axis_label_text_font_style\":\"normal\",\"coordinates\":null,\"formatter\":{\"id\":\"6410\"},\"group\":null,\"major_label_policy\":{\"id\":\"6411\"},\"ticker\":{\"id\":\"6043\"}},\"id\":\"6042\",\"type\":\"LinearAxis\"},{\"attributes\":{\"source\":{\"id\":\"6095\"}},\"id\":\"6100\",\"type\":\"CDSView\"},{\"attributes\":{},\"id\":\"6422\",\"type\":\"UnionRenderers\"},{\"attributes\":{},\"id\":\"6038\",\"type\":\"LinearScale\"},{\"attributes\":{\"line_color\":\"navy\"},\"id\":\"6084\",\"type\":\"Line\"},{\"attributes\":{\"label\":{\"value\":\"Expected Values of Low-Fidelity Model\"},\"renderers\":[{\"id\":\"6093\"}]},\"id\":\"6103\",\"type\":\"LegendItem\"},{\"attributes\":{},\"id\":\"6036\",\"type\":\"DataRange1d\"},{\"attributes\":{\"source\":{\"id\":\"6083\"}},\"id\":\"6088\",\"type\":\"CDSView\"},{\"attributes\":{},\"id\":\"6040\",\"type\":\"LinearScale\"},{\"attributes\":{\"bottom\":{\"value\":0},\"fill_alpha\":{\"value\":0.1},\"fill_color\":{\"value\":\"maroon\"},\"hatch_alpha\":{\"value\":0.1},\"left\":{\"field\":\"left\"},\"line_alpha\":{\"value\":0.1},\"line_color\":{\"value\":\"white\"},\"right\":{\"field\":\"right\"},\"top\":{\"field\":\"top\"}},\"id\":\"6078\",\"type\":\"Quad\"},{\"attributes\":{},\"id\":\"6416\",\"type\":\"UnionRenderers\"},{\"attributes\":{},\"id\":\"6423\",\"type\":\"Selection\"},{\"attributes\":{},\"id\":\"6043\",\"type\":\"BasicTicker\"},{\"attributes\":{\"source\":{\"id\":\"6076\"}},\"id\":\"6081\",\"type\":\"CDSView\"},{\"attributes\":{\"bottom\":{\"value\":0},\"fill_alpha\":{\"value\":0.5},\"fill_color\":{\"value\":\"maroon\"},\"hatch_alpha\":{\"value\":0.5},\"left\":{\"field\":\"left\"},\"line_alpha\":{\"value\":0.5},\"line_color\":{\"value\":\"white\"},\"right\":{\"field\":\"right\"},\"top\":{\"field\":\"top\"}},\"id\":\"6077\",\"type\":\"Quad\"},{\"attributes\":{\"axis\":{\"id\":\"6042\"},\"coordinates\":null,\"group\":null,\"ticker\":null},\"id\":\"6045\",\"type\":\"Grid\"},{\"attributes\":{\"line_alpha\":0.1,\"line_color\":\"navy\"},\"id\":\"6085\",\"type\":\"Line\"},{\"attributes\":{},\"id\":\"6417\",\"type\":\"Selection\"},{\"attributes\":{},\"id\":\"6051\",\"type\":\"WheelZoomTool\"},{\"attributes\":{\"source\":{\"id\":\"6064\"}},\"id\":\"6069\",\"type\":\"CDSView\"},{\"attributes\":{\"label\":{\"value\":\"Expected Values of Multi-Fidelity Model\"},\"renderers\":[{\"id\":\"6099\"}]},\"id\":\"6104\",\"type\":\"LegendItem\"},{\"attributes\":{},\"id\":\"6418\",\"type\":\"UnionRenderers\"},{\"attributes\":{\"axis_label\":\"Frequency\",\"axis_label_text_font\":\"Helvetica\",\"axis_label_text_font_style\":\"normal\",\"coordinates\":null,\"formatter\":{\"id\":\"6407\"},\"group\":null,\"major_label_policy\":{\"id\":\"6408\"},\"ticker\":{\"id\":\"6047\"}},\"id\":\"6046\",\"type\":\"LinearAxis\"},{\"attributes\":{\"align\":\"center\",\"coordinates\":null,\"group\":null,\"text_font\":\"Helvetica\"},\"id\":\"6082\",\"type\":\"Title\"},{\"attributes\":{\"tools\":[{\"id\":\"6050\"},{\"id\":\"6051\"},{\"id\":\"6052\"},{\"id\":\"6053\"},{\"id\":\"6054\"},{\"id\":\"6055\"}]},\"id\":\"6057\",\"type\":\"Toolbar\"},{\"attributes\":{\"axis\":{\"id\":\"6046\"},\"coordinates\":null,\"dimension\":1,\"group\":null,\"ticker\":null},\"id\":\"6049\",\"type\":\"Grid\"},{\"attributes\":{},\"id\":\"6047\",\"type\":\"BasicTicker\"},{\"attributes\":{\"bottom\":{\"value\":0},\"fill_alpha\":{\"value\":0.2},\"fill_color\":{\"value\":\"maroon\"},\"hatch_alpha\":{\"value\":0.2},\"left\":{\"field\":\"left\"},\"line_alpha\":{\"value\":0.2},\"line_color\":{\"value\":\"white\"},\"right\":{\"field\":\"right\"},\"top\":{\"field\":\"top\"}},\"id\":\"6079\",\"type\":\"Quad\"},{\"attributes\":{\"bottom\":{\"value\":0},\"fill_alpha\":{\"value\":0.1},\"fill_color\":{\"value\":\"navy\"},\"hatch_alpha\":{\"value\":0.1},\"left\":{\"field\":\"left\"},\"line_alpha\":{\"value\":0.1},\"line_color\":{\"value\":\"white\"},\"right\":{\"field\":\"right\"},\"top\":{\"field\":\"top\"}},\"id\":\"6066\",\"type\":\"Quad\"},{\"attributes\":{\"bottom\":{\"value\":0},\"fill_alpha\":{\"value\":0.1},\"fill_color\":{\"value\":\"seagreen\"},\"hatch_alpha\":{\"value\":0.1},\"left\":{\"field\":\"left\"},\"line_alpha\":{\"value\":0.1},\"line_color\":{\"value\":\"white\"},\"right\":{\"field\":\"right\"},\"top\":{\"field\":\"top\"}},\"id\":\"6072\",\"type\":\"Quad\"},{\"attributes\":{\"bottom\":{\"value\":0},\"fill_alpha\":{\"value\":0.2},\"fill_color\":{\"value\":\"navy\"},\"hatch_alpha\":{\"value\":0.2},\"left\":{\"field\":\"left\"},\"line_alpha\":{\"value\":0.2},\"line_color\":{\"value\":\"white\"},\"right\":{\"field\":\"right\"},\"top\":{\"field\":\"top\"}},\"id\":\"6067\",\"type\":\"Quad\"},{\"attributes\":{\"data\":{},\"selected\":{\"id\":\"6419\"},\"selection_policy\":{\"id\":\"6418\"}},\"id\":\"6083\",\"type\":\"ColumnDataSource\"},{\"attributes\":{},\"id\":\"6055\",\"type\":\"HelpTool\"},{\"attributes\":{\"source\":{\"id\":\"6070\"}},\"id\":\"6075\",\"type\":\"CDSView\"},{\"attributes\":{},\"id\":\"6415\",\"type\":\"Selection\"},{\"attributes\":{},\"id\":\"6050\",\"type\":\"PanTool\"},{\"attributes\":{\"coordinates\":null,\"data_source\":{\"id\":\"6076\"},\"glyph\":{\"id\":\"6077\"},\"group\":null,\"hover_glyph\":null,\"muted_glyph\":{\"id\":\"6079\"},\"nonselection_glyph\":{\"id\":\"6078\"},\"view\":{\"id\":\"6081\"}},\"id\":\"6080\",\"type\":\"GlyphRenderer\"},{\"attributes\":{\"overlay\":{\"id\":\"6056\"}},\"id\":\"6052\",\"type\":\"BoxZoomTool\"},{\"attributes\":{},\"id\":\"6411\",\"type\":\"AllLabels\"},{\"attributes\":{},\"id\":\"6053\",\"type\":\"SaveTool\"},{\"attributes\":{},\"id\":\"6410\",\"type\":\"BasicTickFormatter\"},{\"attributes\":{},\"id\":\"6414\",\"type\":\"UnionRenderers\"},{\"attributes\":{},\"id\":\"6054\",\"type\":\"ResetTool\"},{\"attributes\":{\"bottom\":{\"value\":0},\"fill_alpha\":{\"value\":0.2},\"fill_color\":{\"value\":\"seagreen\"},\"hatch_alpha\":{\"value\":0.2},\"left\":{\"field\":\"left\"},\"line_alpha\":{\"value\":0.2},\"line_color\":{\"value\":\"white\"},\"right\":{\"field\":\"right\"},\"top\":{\"field\":\"top\"}},\"id\":\"6073\",\"type\":\"Quad\"},{\"attributes\":{},\"id\":\"6421\",\"type\":\"Selection\"},{\"attributes\":{\"line_alpha\":0.2,\"line_color\":\"seagreen\"},\"id\":\"6092\",\"type\":\"Line\"},{\"attributes\":{\"coordinates\":null,\"data_source\":{\"id\":\"6089\"},\"glyph\":{\"id\":\"6090\"},\"group\":null,\"hover_glyph\":null,\"muted_glyph\":{\"id\":\"6092\"},\"nonselection_glyph\":{\"id\":\"6091\"},\"view\":{\"id\":\"6094\"}},\"id\":\"6093\",\"type\":\"GlyphRenderer\"},{\"attributes\":{\"bottom_units\":\"screen\",\"coordinates\":null,\"fill_alpha\":0.5,\"fill_color\":\"lightgrey\",\"group\":null,\"left_units\":\"screen\",\"level\":\"overlay\",\"line_alpha\":1.0,\"line_color\":\"black\",\"line_dash\":[4,4],\"line_width\":2,\"right_units\":\"screen\",\"syncable\":false,\"top_units\":\"screen\"},\"id\":\"6056\",\"type\":\"BoxAnnotation\"},{\"attributes\":{},\"id\":\"6420\",\"type\":\"UnionRenderers\"},{\"attributes\":{\"source\":{\"id\":\"6089\"}},\"id\":\"6094\",\"type\":\"CDSView\"},{\"attributes\":{\"coordinates\":null,\"data_source\":{\"id\":\"6070\"},\"glyph\":{\"id\":\"6071\"},\"group\":null,\"hover_glyph\":null,\"muted_glyph\":{\"id\":\"6073\"},\"nonselection_glyph\":{\"id\":\"6072\"},\"view\":{\"id\":\"6075\"}},\"id\":\"6074\",\"type\":\"GlyphRenderer\"},{\"attributes\":{},\"id\":\"6419\",\"type\":\"Selection\"},{\"attributes\":{\"coordinates\":null,\"group\":null,\"items\":[{\"id\":\"6102\"},{\"id\":\"6103\"},{\"id\":\"6104\"}],\"location\":\"center\"},\"id\":\"6101\",\"type\":\"Legend\"},{\"attributes\":{\"line_alpha\":0.1,\"line_color\":\"maroon\"},\"id\":\"6097\",\"type\":\"Line\"},{\"attributes\":{\"line_color\":\"maroon\"},\"id\":\"6096\",\"type\":\"Line\"},{\"attributes\":{},\"id\":\"6413\",\"type\":\"Selection\"},{\"attributes\":{\"bottom\":{\"value\":0},\"fill_alpha\":{\"value\":0.5},\"fill_color\":{\"value\":\"seagreen\"},\"hatch_alpha\":{\"value\":0.5},\"left\":{\"field\":\"left\"},\"line_alpha\":{\"value\":0.5},\"line_color\":{\"value\":\"white\"},\"right\":{\"field\":\"right\"},\"top\":{\"field\":\"top\"}},\"id\":\"6071\",\"type\":\"Quad\"},{\"attributes\":{},\"id\":\"6408\",\"type\":\"AllLabels\"},{\"attributes\":{\"data\":{\"left\":{\"__ndarray__\":\"G6ERa7tD9j82aqdU3lf2P1IzPT4BbPY/bfzSJySA9j+JxWgRR5T2P6SO/vppqPY/wFeU5Iy89j/bICrOr9D2P/fpv7fS5PY/ErNVofX49j8tfOuKGA33P0lFgXQ7Ifc/ZA4XXl419z+A16xHgUn3P5ugQjGkXfc/t2nYGsdx9z/SMm4E6oX3P+77A+4Mmvc/CcWZ1y+u9z8kji/BUsL3P0BXxap11vc/WyBblJjq9z936fB9u/73P5KyhmfeEvg/rnscUQEn+D/JRLI6JDv4P+QNSCRHT/g/ANfdDWpj+D8boHP3jHf4PzdpCeGvi/g/UjKfytKf+D9u+zS09bP4P4nEyp0YyPg/pY1ghzvc+D/AVvZwXvD4P9wfjFqBBPk/9+ghRKQY+T8Ssrctxyz5Py57TRfqQPk/SUTjAA1V+T9lDXnqL2n5P4DWDtRSffk/nJ+kvXWR+T+3aDqnmKX5P9Ix0JC7ufk/7vplet7N+T8JxPtjAeL5PyWNkU0k9vk/QFYnN0cK+j9cH70gah76Pw==\",\"dtype\":\"float64\",\"order\":\"little\",\"shape\":[50]},\"right\":{\"__ndarray__\":\"NmqnVN5X9j9SMz0+AWz2P2380ickgPY/icVoEUeU9j+kjv76aaj2P8BXlOSMvPY/2yAqzq/Q9j/36b+30uT2PxKzVaH1+PY/LXzrihgN9z9JRYF0OyH3P2QOF15eNfc/gNesR4FJ9z+boEIxpF33P7dp2BrHcfc/0jJuBOqF9z/u+wPuDJr3PwnFmdcvrvc/JI4vwVLC9z9AV8Wqddb3P1sgW5SY6vc/d+nwfbv+9z+SsoZn3hL4P657HFEBJ/g/yUSyOiQ7+D/kDUgkR0/4PwDX3Q1qY/g/G6Bz94x3+D83aQnhr4v4P1Iyn8rSn/g/bvs0tPWz+D+JxMqdGMj4P6WNYIc73Pg/wFb2cF7w+D/cH4xagQT5P/foIUSkGPk/ErK3Lccs+T8ue00X6kD5P0lE4wANVfk/ZQ156i9p+T+A1g7UUn35P5yfpL11kfk/t2g6p5il+T/SMdCQu7n5P+76ZXrezfk/CcT7YwHi+T8ljZFNJPb5P0BWJzdHCvo/XB+9IGoe+j936FIKjTL6Pw==\",\"dtype\":\"float64\",\"order\":\"little\",\"shape\":[50]},\"top\":{\"__ndarray__\":\"TSTOveVF8D8AAAAAAAAAAE0kzr3lRfA/AAAAAAAAAABNJM695UUAQH4jzr3lRfA/TSTOveVFAEB+I8695UUQQE0kzr3lRRBAhr8oDFJ6HEA9NbWc2GgIQHM2tZzYaAhAXaxBLV9XFEDW6Id1ok4iQF2sQS1fVxRAhr8oDFJ6HEAcvigMUnocQHM2tZzYaBhAhr8oDFJ6LEA9NbWc2GgoQGCtQS1fVyRA7ueHdaJOIkBgrUEtX1cUQD01tZzYaChAYK1BLV9XJED9+m5UlXEqQO7nh3WiTiJA1uiHdaJOIkB+I8695UUQQE0kzr3lRRBAfiPOveVFEEBNJM695UUQQD01tZzYaAhAcza1nNhoCEB+I8695UUAQAAAAAAAAAAATSTOveVFAEAAAAAAAAAAAE0kzr3lRQBAfiPOveVF8D8AAAAAAAAAAAAAAAAAAAAAAAAAAAAAAAAAAAAAAAAAAAAAAAAAAAAAAAAAAAAAAAAAAAAAAAAAAAAAAAAAAAAAAAAAAAAAAABNJM695UXwPw==\",\"dtype\":\"float64\",\"order\":\"little\",\"shape\":[50]}},\"selected\":{\"id\":\"6415\"},\"selection_policy\":{\"id\":\"6414\"}},\"id\":\"6070\",\"type\":\"ColumnDataSource\"},{\"attributes\":{\"data\":{},\"selected\":{\"id\":\"6423\"},\"selection_policy\":{\"id\":\"6422\"}},\"id\":\"6095\",\"type\":\"ColumnDataSource\"}],\"root_ids\":[\"6033\"]},\"title\":\"Bokeh Application\",\"version\":\"2.4.2\"}};\n",
       "  const render_items = [{\"docid\":\"d0a4c28f-7716-42d1-981c-e5a67ccb6eaf\",\"root_ids\":[\"6033\"],\"roots\":{\"6033\":\"822fa8a8-da0f-4ce4-9fa9-1fe999849dab\"}}];\n",
       "  root.Bokeh.embed.embed_items_notebook(docs_json, render_items);\n",
       "\n",
       "  }\n",
       "  if (root.Bokeh !== undefined) {\n",
       "    embed_document(root);\n",
       "  } else {\n",
       "    let attempts = 0;\n",
       "    const timer = setInterval(function(root) {\n",
       "      if (root.Bokeh !== undefined) {\n",
       "        clearInterval(timer);\n",
       "        embed_document(root);\n",
       "      } else {\n",
       "        attempts++;\n",
       "        if (attempts > 100) {\n",
       "          clearInterval(timer);\n",
       "          console.log(\"Bokeh: ERROR: Unable to run BokehJS code because BokehJS library is missing\");\n",
       "        }\n",
       "      }\n",
       "    }, 10, root)\n",
       "  }\n",
       "})(window);"
      ],
      "application/vnd.bokehjs_exec.v0+json": ""
     },
     "metadata": {
      "application/vnd.bokehjs_exec.v0+json": {
       "id": "6033"
      }
     },
     "output_type": "display_data"
    }
   ],
   "source": [
    "hhist, hedges = np.histogram(exphs, density=True, bins=50)\n",
    "lhist, ledges = np.histogram(expls, density=True, bins=50)\n",
    "mfhist, mfedges = np.histogram(expmfs, density=True, bins=50)\n",
    "p = bokeh.plotting.figure(height=300, width=800, x_axis_label=\"Expected Values\", \\\n",
    "                          y_axis_label=\"Frequency\")\n",
    "p.quad(top=hhist, bottom=0, left=hedges[:-1], right=hedges[1:],\n",
    "           fill_color=\"navy\", line_color=\"white\", alpha=0.5)\n",
    "p.quad(top=lhist, bottom=0, left=ledges[:-1], right=ledges[1:],\n",
    "           fill_color=\"seagreen\", line_color=\"white\", alpha=0.5)\n",
    "p.quad(top=mfhist, bottom=0, left=mfedges[:-1], right=mfedges[1:],\n",
    "           fill_color=\"maroon\", line_color=\"white\", alpha=0.5)\n",
    "p.title.align = \"center\"\n",
    "legend = bokeh.models.Legend(items=[(\"Expected Values of High-Fidelity Model\", [p.line(line_color=\"navy\")]),\n",
    "                                    (\"Expected Values of Low-Fidelity Model\", [p.line(line_color=\"seagreen\")]),\n",
    "                                    (\"Expected Values of Multi-Fidelity Model\", [p.line(line_color=\"maroon\")])\n",
    "                                   ], location = \"center\")\n",
    "p.add_layout(legend, \"right\")\n",
    "bokeh.io.show(style(p))\n",
    "p.background_fill_color = None\n",
    "p.border_fill_color = None\n",
    "export_png(plot, filename=\"toymultifidelity.png\")"
   ]
  },
  {
   "cell_type": "code",
   "execution_count": 31,
   "id": "7f4a8e64",
   "metadata": {},
   "outputs": [
    {
     "data": {
      "text/plain": [
       "1.015545592705167"
      ]
     },
     "execution_count": 31,
     "metadata": {},
     "output_type": "execute_result"
    }
   ],
   "source": [
    ".9465*3.53/3.29"
   ]
  },
  {
   "cell_type": "code",
   "execution_count": 35,
   "id": "4608cc3a",
   "metadata": {},
   "outputs": [
    {
     "data": {
      "text/plain": [
       "array([[ 2.96034789, -0.74546298, -0.82796973, -0.60979114,  2.4964412 ,\n",
       "        -1.95607354, -0.29051613, -2.85462637],\n",
       "       [ 2.34173845, -0.64669706, -0.30627578, -1.58574389,  2.86447767,\n",
       "         1.58017058,  2.32072506, -0.59952331],\n",
       "       [-1.58483776,  2.92081704,  2.61667552,  1.92841234,  2.40762552,\n",
       "         2.82950255,  1.32498647,  1.5794105 ]])"
      ]
     },
     "execution_count": 35,
     "metadata": {},
     "output_type": "execute_result"
    }
   ],
   "source": [
    "np.random.uniform(-np.pi, np.pi, size=(3,9070))[:, :8]"
   ]
  },
  {
   "cell_type": "code",
   "execution_count": null,
   "id": "aee52872",
   "metadata": {},
   "outputs": [],
   "source": []
  }
 ],
 "metadata": {
  "kernelspec": {
   "display_name": "Python 3 (ipykernel)",
   "language": "python",
   "name": "python3"
  },
  "language_info": {
   "codemirror_mode": {
    "name": "ipython",
    "version": 3
   },
   "file_extension": ".py",
   "mimetype": "text/x-python",
   "name": "python",
   "nbconvert_exporter": "python",
   "pygments_lexer": "ipython3",
   "version": "3.9.12"
  }
 },
 "nbformat": 4,
 "nbformat_minor": 5
}
